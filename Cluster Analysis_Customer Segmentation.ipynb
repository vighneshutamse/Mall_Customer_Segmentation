{
 "cells": [
  {
   "cell_type": "markdown",
   "metadata": {},
   "source": [
    "# <center>Application of Cluster Analysis - Customer Segmentation </center>"
   ]
  },
  {
   "cell_type": "markdown",
   "metadata": {},
   "source": [
    "### Dataset: Mall Customers\n",
    "#### Authors:\n",
    "Anusha Gajinkar (D19008), Vighnesh Tamse (D19037)"
   ]
  },
  {
   "cell_type": "markdown",
   "metadata": {},
   "source": [
    "### Problem Statement:\n",
    "A shopping complex at a region wants to increase its revenue by attracting new customers. Here our main objective is to identify the purchasing behaviour of the customer."
   ]
  },
  {
   "cell_type": "markdown",
   "metadata": {},
   "source": [
    "### Technique used to solve this problem:\n",
    "Based on the previous customers data, we can segregate different types of customers based on their purchasing behaviour using the **\"K-Means Clustering\"** machine learning technique.\n",
    "K-Means Clustering is an unsupervised machine learning technique wherein we group similar elements or data points of a dataset into clusters.\n",
    "The elements present in each cluster are homogeneous whereas the clusters are heterogeneous.\n",
    "Using this technique we can group customers with similar purchasing behaviour into one cluster which will further allow the shopping complex to launch different campaigns based on these clusters for each customer type and hence increase their customer base which will in turn increase its revenue."
   ]
  },
  {
   "cell_type": "markdown",
   "metadata": {},
   "source": [
    "### Describing the data:\n",
    "The dataset consists of 5 columns namely: CustomerID, Gender, Age, Annual Income(k$) and Spending Score(1-100).\n",
    "\n",
    "1. **CustomerID** : Represents the ID of each customer (probably the transaction ID).\n",
    "\n",
    "2. **Gender** : Represents the gender of the customer.\n",
    "\n",
    "3. **Age** : Represents the age of the customer in years.\n",
    "\n",
    "4. **Annual Income(k$)** : Represents the annual income of the customer in 1000 dollars.\n",
    "\n",
    "5. **Spending Score** : Represents the score(out of 100) given to a customer by the shopping complex authorities, depending on the spending behavior of the customers."
   ]
  },
  {
   "cell_type": "markdown",
   "metadata": {},
   "source": [
    "### What is Clustering?\n",
    "Clustering, an unsupervised learning algorithm, is one of the most frequently used machine learning techniques. It is used to create homogenous groups of customers or data points to study their behavior which further helps in better decision making. In clustering, the objective is to ensure that the variation within a cluster a minimized while the variation between clusters is maximized."
   ]
  },
  {
   "cell_type": "markdown",
   "metadata": {},
   "source": [
    "### Types of Clustering:\n",
    "1. **Agglomerative Hierarchial Clustering:** Also known as bottom-up approach or hierarchical agglomerative clustering (HAC).The number of cluster are not decided a priori. Bottom-up algorithms treat each data as a singleton cluster at the outset and then successively agglomerates pairs of clusters until all clusters have been merged into a single cluster that contains all data.\n",
    "\n",
    "2. **Divisive Hierarchial Clustering:** Also known as top-down approach. The number of cluster are not decided a priori. Top-down clustering requires a method for splitting a cluster that contains the whole data and proceeds by splitting clusters recursively until individual data have been splitted into singleton cluster.\n",
    "\n",
    "3. **K-Means Clustering:** It is one of the most frequently used clustering algorithms. It is a non-hierarchial clustering method in which number of clusters are decided a piori. The observations in the data are assigned to one of the clusters based on the distance between the observation and the centroid of the clusters."
   ]
  },
  {
   "cell_type": "markdown",
   "metadata": {},
   "source": [
    "### K-Means Clustering Algorithm\n",
    "The following steps are used in K-Means Clustering algorithm:\n",
    "1. Decide the value of K i.e. the number of cluster by using Elbow curve method or any other suitable method.\n",
    "2. Choose K observations from the data that are likely to be in different clusters. There are many ways of choosing these initial K values; the easiest approach is to choose observations that are farthest(in one of the parameters of the data).\n",
    "3. The K observations selected in step 2 are the centroids of those clusters.\n",
    "4. For remaining observations, find the cluster closest to the centroid. Add the new observation(say observation j) to the cluster with closest centroid. Adjust the centroid after adding a new observation to the cluster. The closest centroid is chosen based upon an appropriate distance measure.\n",
    "5. Repeat step 4 until all the observations are assigned to a cluster."
   ]
  },
  {
   "cell_type": "markdown",
   "metadata": {},
   "source": [
    "### K-Means Clustering"
   ]
  },
  {
   "cell_type": "code",
   "execution_count": 1,
   "metadata": {},
   "outputs": [],
   "source": [
    "import pandas as pd\n",
    "import numpy as np\n",
    "import matplotlib.pyplot as plt\n",
    "import seaborn as sn\n",
    "%matplotlib inline"
   ]
  },
  {
   "cell_type": "code",
   "execution_count": 2,
   "metadata": {},
   "outputs": [],
   "source": [
    "mall=pd.read_csv(\"Mall_Customers.csv\")"
   ]
  },
  {
   "cell_type": "code",
   "execution_count": 3,
   "metadata": {},
   "outputs": [
    {
     "data": {
      "text/html": [
       "<div>\n",
       "<style scoped>\n",
       "    .dataframe tbody tr th:only-of-type {\n",
       "        vertical-align: middle;\n",
       "    }\n",
       "\n",
       "    .dataframe tbody tr th {\n",
       "        vertical-align: top;\n",
       "    }\n",
       "\n",
       "    .dataframe thead th {\n",
       "        text-align: right;\n",
       "    }\n",
       "</style>\n",
       "<table border=\"1\" class=\"dataframe\">\n",
       "  <thead>\n",
       "    <tr style=\"text-align: right;\">\n",
       "      <th></th>\n",
       "      <th>CustomerID</th>\n",
       "      <th>Gender</th>\n",
       "      <th>Age</th>\n",
       "      <th>Annual Income (k$)</th>\n",
       "      <th>Spending Score (1-100)</th>\n",
       "    </tr>\n",
       "  </thead>\n",
       "  <tbody>\n",
       "    <tr>\n",
       "      <th>0</th>\n",
       "      <td>1</td>\n",
       "      <td>Male</td>\n",
       "      <td>19</td>\n",
       "      <td>15</td>\n",
       "      <td>39</td>\n",
       "    </tr>\n",
       "    <tr>\n",
       "      <th>1</th>\n",
       "      <td>2</td>\n",
       "      <td>Male</td>\n",
       "      <td>21</td>\n",
       "      <td>15</td>\n",
       "      <td>81</td>\n",
       "    </tr>\n",
       "    <tr>\n",
       "      <th>2</th>\n",
       "      <td>3</td>\n",
       "      <td>Female</td>\n",
       "      <td>20</td>\n",
       "      <td>16</td>\n",
       "      <td>6</td>\n",
       "    </tr>\n",
       "    <tr>\n",
       "      <th>3</th>\n",
       "      <td>4</td>\n",
       "      <td>Female</td>\n",
       "      <td>23</td>\n",
       "      <td>16</td>\n",
       "      <td>77</td>\n",
       "    </tr>\n",
       "    <tr>\n",
       "      <th>4</th>\n",
       "      <td>5</td>\n",
       "      <td>Female</td>\n",
       "      <td>31</td>\n",
       "      <td>17</td>\n",
       "      <td>40</td>\n",
       "    </tr>\n",
       "  </tbody>\n",
       "</table>\n",
       "</div>"
      ],
      "text/plain": [
       "   CustomerID  Gender  Age  Annual Income (k$)  Spending Score (1-100)\n",
       "0           1    Male   19                  15                      39\n",
       "1           2    Male   21                  15                      81\n",
       "2           3  Female   20                  16                       6\n",
       "3           4  Female   23                  16                      77\n",
       "4           5  Female   31                  17                      40"
      ]
     },
     "execution_count": 3,
     "metadata": {},
     "output_type": "execute_result"
    }
   ],
   "source": [
    "m=mall.copy()\n",
    "m[0:5]"
   ]
  },
  {
   "cell_type": "code",
   "execution_count": 4,
   "metadata": {},
   "outputs": [
    {
     "data": {
      "text/html": [
       "<div>\n",
       "<style scoped>\n",
       "    .dataframe tbody tr th:only-of-type {\n",
       "        vertical-align: middle;\n",
       "    }\n",
       "\n",
       "    .dataframe tbody tr th {\n",
       "        vertical-align: top;\n",
       "    }\n",
       "\n",
       "    .dataframe thead th {\n",
       "        text-align: right;\n",
       "    }\n",
       "</style>\n",
       "<table border=\"1\" class=\"dataframe\">\n",
       "  <thead>\n",
       "    <tr style=\"text-align: right;\">\n",
       "      <th></th>\n",
       "      <th>CustomerID</th>\n",
       "      <th>Gender</th>\n",
       "      <th>Age</th>\n",
       "      <th>Annual Income (k$)</th>\n",
       "      <th>Spending Score (1-100)</th>\n",
       "    </tr>\n",
       "  </thead>\n",
       "  <tbody>\n",
       "    <tr>\n",
       "      <th>0</th>\n",
       "      <td>1</td>\n",
       "      <td>0</td>\n",
       "      <td>19</td>\n",
       "      <td>15</td>\n",
       "      <td>39</td>\n",
       "    </tr>\n",
       "    <tr>\n",
       "      <th>1</th>\n",
       "      <td>2</td>\n",
       "      <td>0</td>\n",
       "      <td>21</td>\n",
       "      <td>15</td>\n",
       "      <td>81</td>\n",
       "    </tr>\n",
       "    <tr>\n",
       "      <th>2</th>\n",
       "      <td>3</td>\n",
       "      <td>1</td>\n",
       "      <td>20</td>\n",
       "      <td>16</td>\n",
       "      <td>6</td>\n",
       "    </tr>\n",
       "    <tr>\n",
       "      <th>3</th>\n",
       "      <td>4</td>\n",
       "      <td>1</td>\n",
       "      <td>23</td>\n",
       "      <td>16</td>\n",
       "      <td>77</td>\n",
       "    </tr>\n",
       "    <tr>\n",
       "      <th>4</th>\n",
       "      <td>5</td>\n",
       "      <td>1</td>\n",
       "      <td>31</td>\n",
       "      <td>17</td>\n",
       "      <td>40</td>\n",
       "    </tr>\n",
       "  </tbody>\n",
       "</table>\n",
       "</div>"
      ],
      "text/plain": [
       "   CustomerID  Gender  Age  Annual Income (k$)  Spending Score (1-100)\n",
       "0           1       0   19                  15                      39\n",
       "1           2       0   21                  15                      81\n",
       "2           3       1   20                  16                       6\n",
       "3           4       1   23                  16                      77\n",
       "4           5       1   31                  17                      40"
      ]
     },
     "execution_count": 4,
     "metadata": {},
     "output_type": "execute_result"
    }
   ],
   "source": [
    "m['Gender'].replace(['Female','Male'],[1,0],inplace=True)\n",
    "m[0:5]"
   ]
  },
  {
   "cell_type": "markdown",
   "metadata": {},
   "source": [
    "### Normalizing Features\n",
    "The clusters will be strongly influenced by the magnitudes of the variables, especially by outliers. Normalizing removes this bias and ensures that good quality clusters are generated which can improve the efficiency of clustering alogorithm."
   ]
  },
  {
   "cell_type": "code",
   "execution_count": 5,
   "metadata": {},
   "outputs": [],
   "source": [
    "from sklearn.preprocessing import StandardScaler\n",
    "scaler=StandardScaler() #Standardize features by removing the mean and scaling to unit variance\n",
    "scaled_m=scaler.fit_transform(m[[\"Gender\",\"Age\",\"Annual Income (k$)\",\"Spending Score (1-100)\"]])"
   ]
  },
  {
   "cell_type": "markdown",
   "metadata": {},
   "source": [
    "### Finding Optimal Number of Clusters Using Elbow Curve Method\n",
    "If we assume only one customer segment, then the varaince of the cluster will be highest. As we increase the number of clusters, the total varaince of all clusters will start reducing. So, Elbow curve method considers the percentage of varaince explained as a function of the number of clusters. The optimal number of clusters is chosen in such a way that adding another doesnot change the variance explained significantly."
   ]
  },
  {
   "cell_type": "code",
   "execution_count": 32,
   "metadata": {},
   "outputs": [
    {
     "data": {
      "image/png": "[encoded data removed]",
      "text/plain": [
       "<Figure size 576x288 with 1 Axes>"
      ]
     },
     "metadata": {},
     "output_type": "display_data"
    }
   ],
   "source": [
    "from sklearn.cluster import KMeans\n",
    "# this code iterates and creates clusters ranging from 1 to 20 and captures the total varaimce in the variable cluster_errors\n",
    "cluster_range=range(1,20)  \n",
    "wcss = []\n",
    "for i in cluster_range:\n",
    "    km = KMeans(n_clusters = i, init = 'k-means++', max_iter = 300, n_init = 10, random_state = 0)\n",
    "    km.fit(scaled_m)\n",
    "    wcss.append(km.inertia_) #interia_parameter in KMeans cluster algorithms provides the total variance for perticular number of clusters.\n",
    "plt.figure(figsize=(8,4))\n",
    "plt.plot(cluster_range,cluster_errors,marker=\"o\")\n",
    "plt.show()"
   ]
  },
  {
   "cell_type": "markdown",
   "metadata": {},
   "source": [
    "The plot indicates that the elbow point is at 5, which indicates there might be five clusters in our dataset. Here we are creating 5 clusters but we can also create 7 clusters but there is no much variation."
   ]
  },
  {
   "cell_type": "code",
   "execution_count": 20,
   "metadata": {},
   "outputs": [
    {
     "data": {
      "text/plain": [
       "325.10998348953444"
      ]
     },
     "execution_count": 20,
     "metadata": {},
     "output_type": "execute_result"
    }
   ],
   "source": [
    "km = KMeans(n_clusters=5,n_init=40)\n",
    "#Fit the kmeans model\n",
    "km.fit(scaled_m)\n",
    "#Within Group SSE\n",
    "km.inertia_"
   ]
  },
  {
   "cell_type": "code",
   "execution_count": 21,
   "metadata": {},
   "outputs": [
    {
     "data": {
      "text/html": [
       "<div>\n",
       "<style scoped>\n",
       "    .dataframe tbody tr th:only-of-type {\n",
       "        vertical-align: middle;\n",
       "    }\n",
       "\n",
       "    .dataframe tbody tr th {\n",
       "        vertical-align: top;\n",
       "    }\n",
       "\n",
       "    .dataframe thead th {\n",
       "        text-align: right;\n",
       "    }\n",
       "</style>\n",
       "<table border=\"1\" class=\"dataframe\">\n",
       "  <thead>\n",
       "    <tr style=\"text-align: right;\">\n",
       "      <th></th>\n",
       "      <th>0</th>\n",
       "      <th>1</th>\n",
       "      <th>2</th>\n",
       "      <th>3</th>\n",
       "    </tr>\n",
       "  </thead>\n",
       "  <tbody>\n",
       "    <tr>\n",
       "      <th>0</th>\n",
       "      <td>-1.128152</td>\n",
       "      <td>-1.424569</td>\n",
       "      <td>-1.738999</td>\n",
       "      <td>-0.434801</td>\n",
       "    </tr>\n",
       "    <tr>\n",
       "      <th>1</th>\n",
       "      <td>-1.128152</td>\n",
       "      <td>-1.281035</td>\n",
       "      <td>-1.738999</td>\n",
       "      <td>1.195704</td>\n",
       "    </tr>\n",
       "    <tr>\n",
       "      <th>2</th>\n",
       "      <td>0.886405</td>\n",
       "      <td>-1.352802</td>\n",
       "      <td>-1.700830</td>\n",
       "      <td>-1.715913</td>\n",
       "    </tr>\n",
       "    <tr>\n",
       "      <th>3</th>\n",
       "      <td>0.886405</td>\n",
       "      <td>-1.137502</td>\n",
       "      <td>-1.700830</td>\n",
       "      <td>1.040418</td>\n",
       "    </tr>\n",
       "    <tr>\n",
       "      <th>4</th>\n",
       "      <td>0.886405</td>\n",
       "      <td>-0.563369</td>\n",
       "      <td>-1.662660</td>\n",
       "      <td>-0.395980</td>\n",
       "    </tr>\n",
       "  </tbody>\n",
       "</table>\n",
       "</div>"
      ],
      "text/plain": [
       "          0         1         2         3\n",
       "0 -1.128152 -1.424569 -1.738999 -0.434801\n",
       "1 -1.128152 -1.281035 -1.738999  1.195704\n",
       "2  0.886405 -1.352802 -1.700830 -1.715913\n",
       "3  0.886405 -1.137502 -1.700830  1.040418\n",
       "4  0.886405 -0.563369 -1.662660 -0.395980"
      ]
     },
     "execution_count": 21,
     "metadata": {},
     "output_type": "execute_result"
    }
   ],
   "source": [
    "scaled_m = pd.DataFrame(scaled_m)\n",
    "scaled_m.head()"
   ]
  },
  {
   "cell_type": "code",
   "execution_count": 58,
   "metadata": {},
   "outputs": [],
   "source": [
    "scaled_m.columns = m.columns[1:]"
   ]
  },
  {
   "cell_type": "code",
   "execution_count": 59,
   "metadata": {},
   "outputs": [
    {
     "data": {
      "text/html": [
       "<div>\n",
       "<style scoped>\n",
       "    .dataframe tbody tr th:only-of-type {\n",
       "        vertical-align: middle;\n",
       "    }\n",
       "\n",
       "    .dataframe tbody tr th {\n",
       "        vertical-align: top;\n",
       "    }\n",
       "\n",
       "    .dataframe thead th {\n",
       "        text-align: right;\n",
       "    }\n",
       "</style>\n",
       "<table border=\"1\" class=\"dataframe\">\n",
       "  <thead>\n",
       "    <tr style=\"text-align: right;\">\n",
       "      <th></th>\n",
       "      <th>Gender</th>\n",
       "      <th>Age</th>\n",
       "      <th>Annual Income (k$)</th>\n",
       "      <th>Spending Score (1-100)</th>\n",
       "    </tr>\n",
       "  </thead>\n",
       "  <tbody>\n",
       "    <tr>\n",
       "      <th>0</th>\n",
       "      <td>-1.128152</td>\n",
       "      <td>-1.424569</td>\n",
       "      <td>-1.738999</td>\n",
       "      <td>-0.434801</td>\n",
       "    </tr>\n",
       "    <tr>\n",
       "      <th>1</th>\n",
       "      <td>-1.128152</td>\n",
       "      <td>-1.281035</td>\n",
       "      <td>-1.738999</td>\n",
       "      <td>1.195704</td>\n",
       "    </tr>\n",
       "    <tr>\n",
       "      <th>2</th>\n",
       "      <td>0.886405</td>\n",
       "      <td>-1.352802</td>\n",
       "      <td>-1.700830</td>\n",
       "      <td>-1.715913</td>\n",
       "    </tr>\n",
       "    <tr>\n",
       "      <th>3</th>\n",
       "      <td>0.886405</td>\n",
       "      <td>-1.137502</td>\n",
       "      <td>-1.700830</td>\n",
       "      <td>1.040418</td>\n",
       "    </tr>\n",
       "    <tr>\n",
       "      <th>4</th>\n",
       "      <td>0.886405</td>\n",
       "      <td>-0.563369</td>\n",
       "      <td>-1.662660</td>\n",
       "      <td>-0.395980</td>\n",
       "    </tr>\n",
       "  </tbody>\n",
       "</table>\n",
       "</div>"
      ],
      "text/plain": [
       "     Gender       Age  Annual Income (k$)  Spending Score (1-100)\n",
       "0 -1.128152 -1.424569           -1.738999               -0.434801\n",
       "1 -1.128152 -1.281035           -1.738999                1.195704\n",
       "2  0.886405 -1.352802           -1.700830               -1.715913\n",
       "3  0.886405 -1.137502           -1.700830                1.040418\n",
       "4  0.886405 -0.563369           -1.662660               -0.395980"
      ]
     },
     "execution_count": 59,
     "metadata": {},
     "output_type": "execute_result"
    }
   ],
   "source": [
    "scaled_m.head()"
   ]
  },
  {
   "cell_type": "markdown",
   "metadata": {},
   "source": [
    "### Creating clusters using KMeans clustering"
   ]
  },
  {
   "cell_type": "code",
   "execution_count": 18,
   "metadata": {},
   "outputs": [
    {
     "data": {
      "text/html": [
       "<div>\n",
       "<style scoped>\n",
       "    .dataframe tbody tr th:only-of-type {\n",
       "        vertical-align: middle;\n",
       "    }\n",
       "\n",
       "    .dataframe tbody tr th {\n",
       "        vertical-align: top;\n",
       "    }\n",
       "\n",
       "    .dataframe thead th {\n",
       "        text-align: right;\n",
       "    }\n",
       "</style>\n",
       "<table border=\"1\" class=\"dataframe\">\n",
       "  <thead>\n",
       "    <tr style=\"text-align: right;\">\n",
       "      <th></th>\n",
       "      <th>CustomerID</th>\n",
       "      <th>Gender</th>\n",
       "      <th>Age</th>\n",
       "      <th>Annual Income (k$)</th>\n",
       "      <th>Spending Score (1-100)</th>\n",
       "      <th>clusterid</th>\n",
       "    </tr>\n",
       "  </thead>\n",
       "  <tbody>\n",
       "    <tr>\n",
       "      <th>0</th>\n",
       "      <td>1</td>\n",
       "      <td>0</td>\n",
       "      <td>19</td>\n",
       "      <td>15</td>\n",
       "      <td>39</td>\n",
       "      <td>3</td>\n",
       "    </tr>\n",
       "    <tr>\n",
       "      <th>1</th>\n",
       "      <td>2</td>\n",
       "      <td>0</td>\n",
       "      <td>21</td>\n",
       "      <td>15</td>\n",
       "      <td>81</td>\n",
       "      <td>3</td>\n",
       "    </tr>\n",
       "    <tr>\n",
       "      <th>2</th>\n",
       "      <td>3</td>\n",
       "      <td>1</td>\n",
       "      <td>20</td>\n",
       "      <td>16</td>\n",
       "      <td>6</td>\n",
       "      <td>2</td>\n",
       "    </tr>\n",
       "    <tr>\n",
       "      <th>3</th>\n",
       "      <td>4</td>\n",
       "      <td>1</td>\n",
       "      <td>23</td>\n",
       "      <td>16</td>\n",
       "      <td>77</td>\n",
       "      <td>1</td>\n",
       "    </tr>\n",
       "    <tr>\n",
       "      <th>4</th>\n",
       "      <td>5</td>\n",
       "      <td>1</td>\n",
       "      <td>31</td>\n",
       "      <td>17</td>\n",
       "      <td>40</td>\n",
       "      <td>2</td>\n",
       "    </tr>\n",
       "  </tbody>\n",
       "</table>\n",
       "</div>"
      ],
      "text/plain": [
       "   CustomerID  Gender  Age  Annual Income (k$)  Spending Score (1-100)  \\\n",
       "0           1       0   19                  15                      39   \n",
       "1           2       0   21                  15                      81   \n",
       "2           3       1   20                  16                       6   \n",
       "3           4       1   23                  16                      77   \n",
       "4           5       1   31                  17                      40   \n",
       "\n",
       "   clusterid  \n",
       "0          3  \n",
       "1          3  \n",
       "2          2  \n",
       "3          1  \n",
       "4          2  "
      ]
     },
     "execution_count": 18,
     "metadata": {},
     "output_type": "execute_result"
    }
   ],
   "source": [
    "k=5\n",
    "clusters=KMeans(k)\n",
    "clusters.fit(scaled_m)\n",
    "m[\"clusterid\"]=clusters.labels_\n",
    "m[0:5]"
   ]
  },
  {
   "cell_type": "markdown",
   "metadata": {},
   "source": [
    "### Plotting Customers with thier segments"
   ]
  },
  {
   "cell_type": "code",
   "execution_count": 19,
   "metadata": {},
   "outputs": [
    {
     "name": "stderr",
     "output_type": "stream",
     "text": [
      "C:\\Users\\Vighnesh Tamse\\Anaconda3\\lib\\site-packages\\seaborn\\regression.py:546: UserWarning: The `size` paramter has been renamed to `height`; please update your code.\n",
      "  warnings.warn(msg, UserWarning)\n"
     ]
    },
    {
     "data": {
      "text/plain": [
       "<seaborn.axisgrid.FacetGrid at 0x25086cf0630>"
      ]
     },
     "execution_count": 19,
     "metadata": {},
     "output_type": "execute_result"
    },
    {
     "data": {
      "image/png": "[encoded data removed]",
      "text/plain": [
       "<Figure size 339.375x288 with 1 Axes>"
      ]
     },
     "metadata": {
      "needs_background": "light"
     },
     "output_type": "display_data"
    }
   ],
   "source": [
    "markers=['+','^',\".\",\"*\",\"o\"]\n",
    "sn.lmplot(\"Age\",\"Spending Score (1-100)\",data=m,hue=\"clusterid\",fit_reg=False,markers=markers,size=4)"
   ]
  },
  {
   "cell_type": "code",
   "execution_count": 20,
   "metadata": {},
   "outputs": [
    {
     "name": "stderr",
     "output_type": "stream",
     "text": [
      "C:\\Users\\anusha\\Anaconda3\\lib\\site-packages\\seaborn\\regression.py:546: UserWarning: The `size` paramter has been renamed to `height`; please update your code.\n",
      "  warnings.warn(msg, UserWarning)\n"
     ]
    },
    {
     "data": {
      "text/plain": [
       "<seaborn.axisgrid.FacetGrid at 0xc5bf128>"
      ]
     },
     "execution_count": 20,
     "metadata": {},
     "output_type": "execute_result"
    },
    {
     "data": {
      "image/png": "[encoded data removed]",
      "text/plain": [
       "<Figure size 339.375x288 with 1 Axes>"
      ]
     },
     "metadata": {
      "needs_background": "light"
     },
     "output_type": "display_data"
    }
   ],
   "source": [
    "markers=['+','^',\".\",\"*\",\"o\"]\n",
    "sn.lmplot(\"Annual Income (k$)\",\"Spending Score (1-100)\",data=m,hue=\"clusterid\",fit_reg=False,markers=markers,size=4)"
   ]
  },
  {
   "cell_type": "code",
   "execution_count": 23,
   "metadata": {},
   "outputs": [
    {
     "name": "stderr",
     "output_type": "stream",
     "text": [
      "C:\\Users\\anusha\\Anaconda3\\lib\\site-packages\\seaborn\\regression.py:546: UserWarning: The `size` paramter has been renamed to `height`; please update your code.\n",
      "  warnings.warn(msg, UserWarning)\n"
     ]
    },
    {
     "data": {
      "image/png": "[encoded data removed]",
      "text/plain": [
       "<Figure size 339.375x288 with 1 Axes>"
      ]
     },
     "metadata": {
      "needs_background": "light"
     },
     "output_type": "display_data"
    }
   ],
   "source": [
    "markers=['+','^',\".\",\"*\",\"o\"]\n",
    "sn.lmplot(\"Age\",\"Annual Income (k$)\",data=m,hue=\"clusterid\",fit_reg=False,markers=markers,size=4)\n",
    "plt.show()"
   ]
  },
  {
   "cell_type": "markdown",
   "metadata": {},
   "source": [
    "### Interpreting the clusters"
   ]
  },
  {
   "cell_type": "code",
   "execution_count": 15,
   "metadata": {},
   "outputs": [
    {
     "data": {
      "text/html": [
       "<div>\n",
       "<style scoped>\n",
       "    .dataframe tbody tr th:only-of-type {\n",
       "        vertical-align: middle;\n",
       "    }\n",
       "\n",
       "    .dataframe tbody tr th {\n",
       "        vertical-align: top;\n",
       "    }\n",
       "\n",
       "    .dataframe thead th {\n",
       "        text-align: right;\n",
       "    }\n",
       "</style>\n",
       "<table border=\"1\" class=\"dataframe\">\n",
       "  <thead>\n",
       "    <tr style=\"text-align: right;\">\n",
       "      <th></th>\n",
       "      <th>k5c1_count</th>\n",
       "      <th>k5c2_count</th>\n",
       "      <th>k5c3_count</th>\n",
       "      <th>k5c4_count</th>\n",
       "      <th>k5c5_count</th>\n",
       "      <th>k5c1_avg</th>\n",
       "      <th>k5c2_avg</th>\n",
       "      <th>k5c3_avg</th>\n",
       "      <th>k5c4_avg</th>\n",
       "      <th>k5c5_avg</th>\n",
       "      <th>k5c1_median</th>\n",
       "      <th>k5c2_median</th>\n",
       "      <th>k5c3_median</th>\n",
       "      <th>k5c4_median</th>\n",
       "      <th>k5c5_median</th>\n",
       "    </tr>\n",
       "  </thead>\n",
       "  <tbody>\n",
       "    <tr>\n",
       "      <th>CustomerID</th>\n",
       "      <td>28</td>\n",
       "      <td>56</td>\n",
       "      <td>29</td>\n",
       "      <td>41</td>\n",
       "      <td>46</td>\n",
       "      <td>67.821429</td>\n",
       "      <td>101.910714</td>\n",
       "      <td>168.241379</td>\n",
       "      <td>102.756098</td>\n",
       "      <td>73.956522</td>\n",
       "      <td>68.0</td>\n",
       "      <td>109.0</td>\n",
       "      <td>171.0</td>\n",
       "      <td>104.0</td>\n",
       "      <td>72.5</td>\n",
       "    </tr>\n",
       "    <tr>\n",
       "      <th>Gender</th>\n",
       "      <td>28</td>\n",
       "      <td>56</td>\n",
       "      <td>29</td>\n",
       "      <td>41</td>\n",
       "      <td>46</td>\n",
       "      <td>0.000000</td>\n",
       "      <td>1.000000</td>\n",
       "      <td>0.344828</td>\n",
       "      <td>0.000000</td>\n",
       "      <td>1.000000</td>\n",
       "      <td>0.0</td>\n",
       "      <td>1.0</td>\n",
       "      <td>0.0</td>\n",
       "      <td>0.0</td>\n",
       "      <td>1.0</td>\n",
       "    </tr>\n",
       "    <tr>\n",
       "      <th>Age</th>\n",
       "      <td>28</td>\n",
       "      <td>56</td>\n",
       "      <td>29</td>\n",
       "      <td>41</td>\n",
       "      <td>46</td>\n",
       "      <td>57.214286</td>\n",
       "      <td>28.392857</td>\n",
       "      <td>39.724138</td>\n",
       "      <td>28.536585</td>\n",
       "      <td>49.043478</td>\n",
       "      <td>59.0</td>\n",
       "      <td>29.5</td>\n",
       "      <td>41.0</td>\n",
       "      <td>28.0</td>\n",
       "      <td>49.0</td>\n",
       "    </tr>\n",
       "    <tr>\n",
       "      <th>Annual Income (k$)</th>\n",
       "      <td>28</td>\n",
       "      <td>56</td>\n",
       "      <td>29</td>\n",
       "      <td>41</td>\n",
       "      <td>46</td>\n",
       "      <td>46.785714</td>\n",
       "      <td>60.428571</td>\n",
       "      <td>90.827586</td>\n",
       "      <td>61.804878</td>\n",
       "      <td>48.913043</td>\n",
       "      <td>48.5</td>\n",
       "      <td>62.5</td>\n",
       "      <td>87.0</td>\n",
       "      <td>62.0</td>\n",
       "      <td>49.5</td>\n",
       "    </tr>\n",
       "    <tr>\n",
       "      <th>Spending Score (1-100)</th>\n",
       "      <td>28</td>\n",
       "      <td>56</td>\n",
       "      <td>29</td>\n",
       "      <td>41</td>\n",
       "      <td>46</td>\n",
       "      <td>38.714286</td>\n",
       "      <td>68.178571</td>\n",
       "      <td>17.620690</td>\n",
       "      <td>71.097561</td>\n",
       "      <td>37.217391</td>\n",
       "      <td>46.0</td>\n",
       "      <td>73.0</td>\n",
       "      <td>16.0</td>\n",
       "      <td>73.0</td>\n",
       "      <td>42.0</td>\n",
       "    </tr>\n",
       "    <tr>\n",
       "      <th>clusterid</th>\n",
       "      <td>28</td>\n",
       "      <td>56</td>\n",
       "      <td>29</td>\n",
       "      <td>41</td>\n",
       "      <td>46</td>\n",
       "      <td>0.000000</td>\n",
       "      <td>1.000000</td>\n",
       "      <td>2.000000</td>\n",
       "      <td>3.000000</td>\n",
       "      <td>4.000000</td>\n",
       "      <td>0.0</td>\n",
       "      <td>1.0</td>\n",
       "      <td>2.0</td>\n",
       "      <td>3.0</td>\n",
       "      <td>4.0</td>\n",
       "    </tr>\n",
       "  </tbody>\n",
       "</table>\n",
       "</div>"
      ],
      "text/plain": [
       "                        k5c1_count  k5c2_count  k5c3_count  k5c4_count  \\\n",
       "CustomerID                      28          56          29          41   \n",
       "Gender                          28          56          29          41   \n",
       "Age                             28          56          29          41   \n",
       "Annual Income (k$)              28          56          29          41   \n",
       "Spending Score (1-100)          28          56          29          41   \n",
       "clusterid                       28          56          29          41   \n",
       "\n",
       "                        k5c5_count   k5c1_avg    k5c2_avg    k5c3_avg  \\\n",
       "CustomerID                      46  67.821429  101.910714  168.241379   \n",
       "Gender                          46   0.000000    1.000000    0.344828   \n",
       "Age                             46  57.214286   28.392857   39.724138   \n",
       "Annual Income (k$)              46  46.785714   60.428571   90.827586   \n",
       "Spending Score (1-100)          46  38.714286   68.178571   17.620690   \n",
       "clusterid                       46   0.000000    1.000000    2.000000   \n",
       "\n",
       "                          k5c4_avg   k5c5_avg  k5c1_median  k5c2_median  \\\n",
       "CustomerID              102.756098  73.956522         68.0        109.0   \n",
       "Gender                    0.000000   1.000000          0.0          1.0   \n",
       "Age                      28.536585  49.043478         59.0         29.5   \n",
       "Annual Income (k$)       61.804878  48.913043         48.5         62.5   \n",
       "Spending Score (1-100)   71.097561  37.217391         46.0         73.0   \n",
       "clusterid                 3.000000   4.000000          0.0          1.0   \n",
       "\n",
       "                        k5c3_median  k5c4_median  k5c5_median  \n",
       "CustomerID                    171.0        104.0         72.5  \n",
       "Gender                          0.0          0.0          1.0  \n",
       "Age                            41.0         28.0         49.0  \n",
       "Annual Income (k$)             87.0         62.0         49.5  \n",
       "Spending Score (1-100)         16.0         73.0         42.0  \n",
       "clusterid                       2.0          3.0          4.0  "
      ]
     },
     "execution_count": 15,
     "metadata": {},
     "output_type": "execute_result"
    }
   ],
   "source": [
    "summary=pd.DataFrame()\n",
    "k5c1=m[m.clusterid==0]\n",
    "k5c2=m[m.clusterid==1]\n",
    "k5c3=m[m.clusterid==2]\n",
    "k5c4=m[m.clusterid==3]\n",
    "k5c5=m[m.clusterid==4]\n",
    "summary[\"k5c1_count\"]=k5c1.count()\n",
    "summary[\"k5c2_count\"]=k5c2.count()\n",
    "summary[\"k5c3_count\"]=k5c3.count()\n",
    "summary[\"k5c4_count\"]=k5c4.count()\n",
    "summary[\"k5c5_count\"]=k5c5.count()\n",
    "\n",
    "summary[\"k5c1_avg\"]=k5c1.mean()\n",
    "summary[\"k5c2_avg\"]=k5c2.mean()\n",
    "summary[\"k5c3_avg\"]=k5c3.mean()\n",
    "summary[\"k5c4_avg\"]=k5c4.mean()\n",
    "summary[\"k5c5_avg\"]=k5c5.mean()\n",
    "\n",
    "summary[\"k5c1_median\"]=k5c1.median()\n",
    "summary[\"k5c2_median\"]=k5c2.median()\n",
    "summary[\"k5c3_median\"]=k5c3.median()\n",
    "summary[\"k5c4_median\"]=k5c4.median()\n",
    "summary[\"k5c5_median\"]=k5c5.median()\n",
    "\n",
    "summary"
   ]
  },
  {
   "cell_type": "markdown",
   "metadata": {},
   "source": [
    "1. First and third cluster have less no.of customers compared other clusters.\n",
    "\n",
    "2. **First Cluster:** The first cluster has females with an average age near 30, with average salary around 60(k$) and spending score around 70. This cluster has young female adult customers with average salary and high spending score.\n",
    "\n",
    "3. **Second Cluster:** The second cluster has males with an average age near 60, with average salary around 50(k$) and spending score around 40. This cluster has middle aged males adult customers with less than average salary and less than average spending score.\n",
    "\n",
    "4. **Third Cluster:** The third cluster has males with an average age near 30, with average salary around 60(k$) and spending score around 70. This cluster has young male adult customers with average salary and high spending score.\n",
    "\n",
    "5. **Fourth Cluster:** The fourth cluster has males with an average age near 50, with average salary around 60(k$) and spending score around 35. This cluster has middle aged females adult customers with average salary and less than average spending score.\n",
    "\n",
    "6. **Fifth Cluster:** The fifth cluster has males with an average age near 40, with average salary around 80(k$) and spending score around 14. This cluster has middle aged male adult customers with high salary but very less spending score.\n"
   ]
  },
  {
   "cell_type": "markdown",
   "metadata": {},
   "source": [
    "### Suggestions to solve problem"
   ]
  },
  {
   "cell_type": "markdown",
   "metadata": {},
   "source": [
    "From above customer segments we can see that the young adults with average salary are the one who spend more in the malls or shopping complexes so we need attract more youths, both males and females. For these type of customers, we need to analyse which service is most used by them like if most of them visit the mall for dining, socilaizing or for entertainment then the authorities need to launch campaigns o events that can attract more youth. Sending messages to them about events, offers and giving free wifi connectivity can help reach out to them easily. If more visits and more time is spent then we can expect more spending and hence more revenue.\n",
    "\n",
    "Other two segments have middle aged adults both spending less. One way to attract them will be to keep activities for kids like variety of games, some of which could be related to physical activities, competitions, bookstores with all kinds of books, arts and crafts etc.\n",
    "\n",
    "Also, there is one segement of middle aged males with high salary but they spend the least. These customer are to be studied seperately to identify their needs and what are the things that could bring them to malls since they have potential to spend money. The recommendations given in second point can be applicable for these customers as well.\n",
    "\n",
    "These recommendations depends on the area where the shopping complex is located.\n"
   ]
  }
 ],
 "metadata": {
  "kernelspec": {
   "display_name": "Python 3",
   "language": "python",
   "name": "python3"
  },
  "language_info": {
   "codemirror_mode": {
    "name": "ipython",
    "version": 3
   },
   "file_extension": ".py",
   "mimetype": "text/x-python",
   "name": "python",
   "nbconvert_exporter": "python",
   "pygments_lexer": "ipython3",
   "version": "3.7.3"
  }
 },
 "nbformat": 4,
 "nbformat_minor": 2
}
